{
 "cells": [
  {
   "cell_type": "code",
   "execution_count": 4,
   "id": "c492bc99",
   "metadata": {},
   "outputs": [
    {
     "name": "stdout",
     "output_type": "stream",
     "text": [
      "enter the word to replace: hi\n",
      "enter the word replacement: hii\n",
      "Hi guys, I'm Tomi, and hii hii hii hii\n"
     ]
    }
   ],
   "source": [
    "def replace_word():\n",
    "    str=\"Hi guys, I'm Tomi, and hi hi hi hi\"\n",
    "    word_to_replace=input(\"enter the word to replace: \")\n",
    "    word_replacement=input(\"enter the word replacement: \")\n",
    "    print(str.replace(word_to_replace,word_replacement))\n",
    "replace_word()"
   ]
  },
  {
   "cell_type": "code",
   "execution_count": null,
   "id": "89eb1cd4",
   "metadata": {},
   "outputs": [],
   "source": []
  }
 ],
 "metadata": {
  "kernelspec": {
   "display_name": "Python 3 (ipykernel)",
   "language": "python",
   "name": "python3"
  },
  "language_info": {
   "codemirror_mode": {
    "name": "ipython",
    "version": 3
   },
   "file_extension": ".py",
   "mimetype": "text/x-python",
   "name": "python",
   "nbconvert_exporter": "python",
   "pygments_lexer": "ipython3",
   "version": "3.9.13"
  }
 },
 "nbformat": 4,
 "nbformat_minor": 5
}
